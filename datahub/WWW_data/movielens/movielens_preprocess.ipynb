{
 "cells": [
  {
   "cell_type": "code",
   "execution_count": 1,
   "metadata": {},
   "outputs": [],
   "source": [
    "import pandas as pd\n",
    "import numpy as np\n",
    "import matplotlib.pyplot as plt\n",
    "import pickle"
   ]
  },
  {
   "cell_type": "code",
   "execution_count": 2,
   "metadata": {},
   "outputs": [
    {
     "name": "stdout",
     "output_type": "stream",
     "text": [
      "(5040, 2)\n",
      "(2,)\n",
      "(29281,)\n"
     ]
    }
   ],
   "source": [
    "text_features_org = np.load(\"./text_features.npy\", allow_pickle=True)\n",
    "print(text_features_org.shape) # num_ids, 2\n",
    "print(text_features_org[0].shape) # id, feature\n",
    "print(text_features_org[0][1].shape) # feature_size\n",
    "# text_emb_size = text_features[0][1].shape[0]\n",
    "# text_features = {f[0]: f[1] for f in text_features}\n",
    "text_emb_size = 32\n",
    "text_features = {f[0]: np.random.rand(text_emb_size) for f in text_features_org}"
   ]
  },
  {
   "cell_type": "code",
   "execution_count": 3,
   "metadata": {},
   "outputs": [],
   "source": [
    "# Mocked Video Embeddings\n",
    "video_emb_size = 32\n",
    "video_features = {f[0]: np.random.rand(video_emb_size) for f in text_features_org}"
   ]
  },
  {
   "cell_type": "code",
   "execution_count": 4,
   "metadata": {},
   "outputs": [],
   "source": [
    "warm_train = pd.read_csv(\"./warm_train.csv\")\n",
    "warm_val = pd.read_csv(\"./warm_val.csv\")\n",
    "warm_test = pd.read_csv(\"./warm_test.csv\")\n",
    "cold_val = pd.read_csv(\"./cold_val.csv\")\n",
    "cold_test = pd.read_csv(\"./cold_test.csv\")\n",
    "warm_train_items = warm_train[\"movielens_id\"].unique()\n",
    "warm_val_items = warm_val[\"movielens_id\"].unique()\n",
    "warm_test_items = warm_test[\"movielens_id\"].unique()\n",
    "cold_val_items = cold_val[\"movielens_id\"].unique()\n",
    "cold_test_items = cold_test[\"movielens_id\"].unique()\n",
    "all_items = np.concatenate([warm_train_items, warm_val_items, warm_test_items, cold_val_items, cold_test_items], axis=0)"
   ]
  },
  {
   "cell_type": "code",
   "execution_count": 5,
   "metadata": {},
   "outputs": [],
   "source": [
    "# implicit feedback with rating\n",
    "threshold = 3.5\n",
    "ratings = pd.read_csv(\"./ratings_tv.csv\")\n",
    "ratings['rating'] = ratings['rating'].map(lambda x: 0 if x < threshold else 1)\n",
    "ratings.rename(columns={\"movielens_id\": \"item_id\", \"userId\": \"user_id\"}, inplace=True)"
   ]
  },
  {
   "cell_type": "code",
   "execution_count": 6,
   "metadata": {},
   "outputs": [],
   "source": [
    "# filter items if not in warm and cold\n",
    "ratings = ratings[ratings[\"item_id\"].isin(all_items)]"
   ]
  },
  {
   "cell_type": "code",
   "execution_count": 7,
   "metadata": {},
   "outputs": [],
   "source": [
    "# append text features\n",
    "text = []\n",
    "for item_id in ratings[\"item_id\"]:\n",
    "    text.append(text_features[item_id])\n",
    "ratings[\"text\"] = text"
   ]
  },
  {
   "cell_type": "code",
   "execution_count": 8,
   "metadata": {},
   "outputs": [],
   "source": [
    "# append video features\n",
    "video = []\n",
    "for item_id in ratings[\"item_id\"]:\n",
    "    video.append(video_features[item_id])\n",
    "ratings[\"video\"] = video"
   ]
  },
  {
   "cell_type": "code",
   "execution_count": 9,
   "metadata": {},
   "outputs": [],
   "source": [
    "orders = [\"user_id\", \"item_id\", \"text\", \"video\", \"rating\"]\n",
    "ratings = ratings[orders]\n",
    "description = [\n",
    "    ('user_id', 1 + np.max(ratings['user_id']), 'spr'),\n",
    "    ('item_id', 1 + np.max(ratings['item_id']), 'spr'),\n",
    "    ('text', text_emb_size, 'pretrained'),\n",
    "    ('video', video_emb_size, 'pretrained'),\n",
    "    ('rating', 2, 'label'),\n",
    "    ('count', -1, 'ctn'),\n",
    "]"
   ]
  },
  {
   "cell_type": "code",
   "execution_count": 10,
   "metadata": {},
   "outputs": [
    {
     "data": {
      "text/html": [
       "<div>\n",
       "<style scoped>\n",
       "    .dataframe tbody tr th:only-of-type {\n",
       "        vertical-align: middle;\n",
       "    }\n",
       "\n",
       "    .dataframe tbody tr th {\n",
       "        vertical-align: top;\n",
       "    }\n",
       "\n",
       "    .dataframe thead th {\n",
       "        text-align: right;\n",
       "    }\n",
       "</style>\n",
       "<table border=\"1\" class=\"dataframe\">\n",
       "  <thead>\n",
       "    <tr style=\"text-align: right;\">\n",
       "      <th></th>\n",
       "      <th>user_id</th>\n",
       "      <th>item_id</th>\n",
       "      <th>text</th>\n",
       "      <th>video</th>\n",
       "      <th>rating</th>\n",
       "    </tr>\n",
       "  </thead>\n",
       "  <tbody>\n",
       "    <tr>\n",
       "      <th>165998</th>\n",
       "      <td>1</td>\n",
       "      <td>112</td>\n",
       "      <td>[0.438189518001735, 0.6370522229950104, 0.0086...</td>\n",
       "      <td>[0.04912376121610795, 0.8232656114469328, 0.87...</td>\n",
       "      <td>1</td>\n",
       "    </tr>\n",
       "    <tr>\n",
       "      <th>165999</th>\n",
       "      <td>19</td>\n",
       "      <td>112</td>\n",
       "      <td>[0.438189518001735, 0.6370522229950104, 0.0086...</td>\n",
       "      <td>[0.04912376121610795, 0.8232656114469328, 0.87...</td>\n",
       "      <td>1</td>\n",
       "    </tr>\n",
       "    <tr>\n",
       "      <th>166000</th>\n",
       "      <td>24</td>\n",
       "      <td>112</td>\n",
       "      <td>[0.438189518001735, 0.6370522229950104, 0.0086...</td>\n",
       "      <td>[0.04912376121610795, 0.8232656114469328, 0.87...</td>\n",
       "      <td>0</td>\n",
       "    </tr>\n",
       "    <tr>\n",
       "      <th>166001</th>\n",
       "      <td>29</td>\n",
       "      <td>112</td>\n",
       "      <td>[0.438189518001735, 0.6370522229950104, 0.0086...</td>\n",
       "      <td>[0.04912376121610795, 0.8232656114469328, 0.87...</td>\n",
       "      <td>1</td>\n",
       "    </tr>\n",
       "    <tr>\n",
       "      <th>166002</th>\n",
       "      <td>39</td>\n",
       "      <td>112</td>\n",
       "      <td>[0.438189518001735, 0.6370522229950104, 0.0086...</td>\n",
       "      <td>[0.04912376121610795, 0.8232656114469328, 0.87...</td>\n",
       "      <td>0</td>\n",
       "    </tr>\n",
       "  </tbody>\n",
       "</table>\n",
       "</div>"
      ],
      "text/plain": [
       "        user_id  item_id                                               text  \\\n",
       "165998        1      112  [0.438189518001735, 0.6370522229950104, 0.0086...   \n",
       "165999       19      112  [0.438189518001735, 0.6370522229950104, 0.0086...   \n",
       "166000       24      112  [0.438189518001735, 0.6370522229950104, 0.0086...   \n",
       "166001       29      112  [0.438189518001735, 0.6370522229950104, 0.0086...   \n",
       "166002       39      112  [0.438189518001735, 0.6370522229950104, 0.0086...   \n",
       "\n",
       "                                                    video  rating  \n",
       "165998  [0.04912376121610795, 0.8232656114469328, 0.87...       1  \n",
       "165999  [0.04912376121610795, 0.8232656114469328, 0.87...       1  \n",
       "166000  [0.04912376121610795, 0.8232656114469328, 0.87...       0  \n",
       "166001  [0.04912376121610795, 0.8232656114469328, 0.87...       1  \n",
       "166002  [0.04912376121610795, 0.8232656114469328, 0.87...       0  "
      ]
     },
     "execution_count": 10,
     "metadata": {},
     "output_type": "execute_result"
    }
   ],
   "source": [
    "ratings.head()"
   ]
  },
  {
   "cell_type": "code",
   "execution_count": 11,
   "metadata": {},
   "outputs": [
    {
     "data": {
      "text/plain": [
       "[<matplotlib.lines.Line2D at 0x7fa3e979b820>]"
      ]
     },
     "execution_count": 11,
     "metadata": {},
     "output_type": "execute_result"
    },
    {
     "data": {
      "image/png": "[encoded data removed]",
      "text/plain": [
       "<Figure size 432x288 with 1 Axes>"
      ]
     },
     "metadata": {
      "needs_background": "light"
     },
     "output_type": "display_data"
    }
   ],
   "source": [
    "user2count = ratings.groupby(['item_id']).size().reset_index(name='count').sort_values(by='count')\n",
    "item_ids = list(user2count['item_id'])\n",
    "counts = np.array(user2count['count'])\n",
    "plt.plot(np.arange(len(counts)), counts)"
   ]
  },
  {
   "cell_type": "code",
   "execution_count": 12,
   "metadata": {},
   "outputs": [],
   "source": [
    "# Preprocess count\n",
    "ratings = ratings.join(user2count.set_index('item_id'), on='item_id')\n",
    "min_count = np.min(ratings['count'])\n",
    "max_count = np.max(ratings['count'])\n",
    "ratings['count'] = ratings['count'].map(lambda x: (x - min_count)/(max_count - min_count))"
   ]
  },
  {
   "cell_type": "code",
   "execution_count": 13,
   "metadata": {},
   "outputs": [
    {
     "name": "stdout",
     "output_type": "stream",
     "text": [
      "warm_train size: 4494776\n",
      "warm_val size: 4476231\n",
      "warm_test size: 4478135\n",
      "cold_val size: 2165571\n",
      "cold_test size: 1686937\n",
      "description size: 6\n"
     ]
    }
   ],
   "source": [
    "# warm/cold, train/test/val split is based on item id\n",
    "warm_train = ratings[ratings[\"item_id\"].isin(warm_train_items)]\n",
    "warm_val = ratings[ratings[\"item_id\"].isin(warm_val_items)]\n",
    "warm_test = ratings[ratings[\"item_id\"].isin(warm_test_items)]\n",
    "cold_val = ratings[ratings[\"item_id\"].isin(cold_val_items)]\n",
    "cold_test = ratings[ratings[\"item_id\"].isin(cold_test_items)]\n",
    "\n",
    "assert set(warm_train[\"item_id\"].unique()) == set(warm_train_items)\n",
    "assert set(warm_val[\"item_id\"].unique()) == set(warm_val_items)\n",
    "assert set(warm_test[\"item_id\"].unique()) == set(warm_test_items)\n",
    "assert set(cold_val[\"item_id\"].unique()) == set(cold_val_items)\n",
    "assert set(cold_test[\"item_id\"].unique()) == set(cold_test_items)\n",
    "\n",
    "save_dic = {\n",
    "    \"warm_train\": warm_train,\n",
    "    \"warm_val\": warm_val,\n",
    "    \"warm_test\": warm_test,\n",
    "    \"cold_val\": cold_val,\n",
    "    \"cold_test\": cold_test,\n",
    "    \"description\": description,\n",
    "}\n",
    "for name, df in save_dic.items():\n",
    "    print(\"{} size: {}\".format(name, len(df)))\n",
    "with open('./movielens_data.pkl', 'bw+') as f:\n",
    "    pickle.dump(save_dic, f)"
   ]
  }
 ],
 "metadata": {
  "kernelspec": {
   "display_name": "Python 3.8.13 ('py38')",
   "language": "python",
   "name": "python3"
  },
  "language_info": {
   "codemirror_mode": {
    "name": "ipython",
    "version": 3
   },
   "file_extension": ".py",
   "mimetype": "text/x-python",
   "name": "python",
   "nbconvert_exporter": "python",
   "pygments_lexer": "ipython3",
   "version": "3.8.13"
  },
  "orig_nbformat": 4,
  "vscode": {
   "interpreter": {
    "hash": "4c6812938163a5641a6c3e8a9f379925be7813a618feb6985f86dc94be9799b9"
   }
  }
 },
 "nbformat": 4,
 "nbformat_minor": 2
}
